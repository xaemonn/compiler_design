{
  "nbformat": 4,
  "nbformat_minor": 0,
  "metadata": {
    "colab": {
      "provenance": [],
      "include_colab_link": true
    },
    "kernelspec": {
      "name": "python3",
      "display_name": "Python 3"
    },
    "language_info": {
      "name": "python"
    }
  },
  "cells": [
    {
      "cell_type": "markdown",
      "metadata": {
        "id": "view-in-github",
        "colab_type": "text"
      },
      "source": [
        "<a href=\"https://colab.research.google.com/github/xaemonn/compiler_design/blob/main/LEX_and_YACC_Compiler.ipynb\" target=\"_parent\"><img src=\"https://colab.research.google.com/assets/colab-badge.svg\" alt=\"Open In Colab\"/></a>"
      ]
    },
    {
      "cell_type": "markdown",
      "source": [
        "# LEX and YACC Compiler in Colab\n",
        "\n",
        "Drawbacks:\n",
        "* Regular interrupts (Ctrl+D, Ctrl+C) for shell won't work in Colab while inputting for program.\n",
        "<br>Workaround: Store your inputs in a txt file and pass it to the program."
      ],
      "metadata": {
        "id": "Az09-x9PnHPq"
      }
    },
    {
      "cell_type": "code",
      "source": [
        "#@title Install *prerqeuisites* (run this cell first to work on LEX/YACC)\n",
        "!sudo apt install flex bison"
      ],
      "metadata": {
        "cellView": "form",
        "id": "CM_9N3RogX8y",
        "colab": {
          "base_uri": "https://localhost:8080/"
        },
        "outputId": "91cab5c9-fdb8-4735-e7a0-614978a91797"
      },
      "execution_count": 31,
      "outputs": [
        {
          "output_type": "stream",
          "name": "stdout",
          "text": [
            "Reading package lists... Done\n",
            "Building dependency tree... Done\n",
            "Reading state information... Done\n",
            "bison is already the newest version (2:3.8.2+dfsg-1build1).\n",
            "flex is already the newest version (2.6.4-8build2).\n",
            "0 upgraded, 0 newly installed, 0 to remove and 35 not upgraded.\n"
          ]
        }
      ]
    },
    {
      "cell_type": "markdown",
      "source": [
        "## Lex only"
      ],
      "metadata": {
        "id": "0IYbRG4He38g"
      }
    },
    {
      "cell_type": "code",
      "execution_count": 32,
      "metadata": {
        "colab": {
          "base_uri": "https://localhost:8080/"
        },
        "id": "Jyt0i_pTexWf",
        "outputId": "190a0940-83c1-488d-bfab-ac1a04fa5ece"
      },
      "outputs": [
        {
          "output_type": "stream",
          "name": "stdout",
          "text": [
            "Overwriting program.l\n"
          ]
        }
      ],
      "source": [
        "#@title Writing Lex program\n",
        "\n",
        "%%writefile program.l\n",
        "\n",
        "%{\n",
        "#include <stdio.h>\n",
        "#include <stdlib.h>\n",
        "#include <string.h>\n",
        "\n",
        "int lineno = 1;\n",
        "\n",
        "#define MAX_IDS 1000\n",
        "char *id_table[MAX_IDS];\n",
        "int id_count = 0;\n",
        "\n",
        "int get_token_num(char *id) {\n",
        "    for (int i = 0; i < id_count; i++) {\n",
        "        if (strcmp(id_table[i], id) == 0) {\n",
        "            return i + 1;\n",
        "        }\n",
        "    }\n",
        "    id_table[id_count] = strdup(id);\n",
        "    id_count++;\n",
        "    return id_count;\n",
        "}\n",
        "%}\n",
        "\n",
        "DIGIT       [0-9]\n",
        "LETTER      [a-zA-Z]\n",
        "ID          {LETTER}({LETTER}|{DIGIT})*\n",
        "NUMBER      {DIGIT}+\n",
        "WS          [ \\t]+\n",
        "\n",
        "%%\n",
        "\n",
        "\"Integer\"           { printf(\"TOKEN: %-15s RETURN: INTEGER\\n\", yytext); }\n",
        "\"Begin\"             { printf(\"TOKEN: %-15s RETURN: BEGIN\\n\", yytext); }\n",
        "\"read\"              { printf(\"TOKEN: %-15s RETURN: READ\\n\", yytext); }\n",
        "\"write\"             { printf(\"TOKEN: %-15s RETURN: WRITE\\n\", yytext); }\n",
        "\"if\"                { printf(\"TOKEN: %-15s RETURN: IF\\n\", yytext); }\n",
        "\"then\"              { printf(\"TOKEN: %-15s RETURN: THEN\\n\", yytext); }\n",
        "\"else\"              { printf(\"TOKEN: %-15s RETURN: ELSE\\n\", yytext); }\n",
        "\"endif\"             { printf(\"TOKEN: %-15s RETURN: ENDIF\\n\", yytext); }\n",
        "\"while\"             { printf(\"TOKEN: %-15s RETURN: WHILE\\n\", yytext); }\n",
        "\"do\"                { printf(\"TOKEN: %-15s RETURN: DO\\n\", yytext); }\n",
        "\"endwhile\"          { printf(\"TOKEN: %-15s RETURN: ENDWHILE\\n\", yytext); }\n",
        "\"end\"               { printf(\"TOKEN: %-15s RETURN: END\\n\", yytext); }\n",
        "\n",
        "\":=\"                { printf(\"TOKEN: %-15s RETURN: ASSIGN\\n\", yytext); }\n",
        "\"<\"                 { printf(\"TOKEN: %-15s RETURN: LT\\n\", yytext); }\n",
        "\">\"                 { printf(\"TOKEN: %-15s RETURN: GT\\n\", yytext); }\n",
        "\"==\"                { printf(\"TOKEN: %-15s RETURN: EQ\\n\", yytext); }\n",
        "\"*\"                 { printf(\"TOKEN: %-15s RETURN: MUL\\n\", yytext); }\n",
        "\"+\"                 { printf(\"TOKEN: %-15s RETURN: ADD\\n\", yytext); }\n",
        "\"-\"                 { printf(\"TOKEN: %-15s RETURN: SUB\\n\", yytext); }\n",
        "\";\"                 { printf(\"TOKEN: %-15s RETURN: SEMICOLON\\n\", yytext); }\n",
        "\",\"                 { printf(\"TOKEN: %-15s RETURN: COMMA\\n\", yytext); }\n",
        "\n",
        "{ID} {\n",
        "    int token_num = get_token_num(yytext);\n",
        "    printf(\"TOKEN: %-15s RETURN: IDENTIFIER TOKEN_NUM: %d\\n\", yytext, token_num);\n",
        "}\n",
        "\n",
        "{NUMBER}            { printf(\"TOKEN: %-15s RETURN: NUMBER\\n\", yytext); }\n",
        "{WS}                { /* ignore spaces */ }\n",
        "\\n                  { lineno++; }\n",
        ".                   { printf(\"TOKEN: %-15s RETURN: UNKNOWN\\n\", yytext); }\n",
        "\n",
        "%%\n",
        "\n",
        "int main(int argc, char **argv) {\n",
        "    yylex();\n",
        "    return 0;\n",
        "}\n",
        "\n",
        "int yywrap() {\n",
        "    return 1;\n",
        "}"
      ]
    },
    {
      "cell_type": "markdown",
      "source": [
        "if you want to use at txt as an input"
      ],
      "metadata": {
        "id": "erI5UjQzg3Sy"
      }
    },
    {
      "cell_type": "code",
      "source": [
        "%%writefile input.txt\n",
        "Integer a, b\n",
        "Begin\n",
        "read n;\n",
        "if a < 10\n",
        "then\n",
        "b :=1;\n",
        "else;\n",
        "endif\n",
        "while a < 10\n",
        "do\n",
        "b := 5*a;\n",
        "a := a+1;\n",
        "endwhile;\n",
        "write a;\n",
        "write b;\n",
        "end"
      ],
      "metadata": {
        "colab": {
          "base_uri": "https://localhost:8080/"
        },
        "id": "MUUdcBtRgtjf",
        "outputId": "f9cb1b99-fb36-4093-8fad-ab8145b98571"
      },
      "execution_count": 33,
      "outputs": [
        {
          "output_type": "stream",
          "name": "stdout",
          "text": [
            "Overwriting input.txt\n"
          ]
        }
      ]
    },
    {
      "cell_type": "code",
      "source": [
        "#@title Shell Execution (you can rewrite the commands as per your need, eg. if you want to include a file as an input)\n",
        "%%shell\n",
        "\n",
        "flex program.l\n",
        "gcc lex.yy.c -o lexer\n",
        "./lexer < input.txt"
      ],
      "metadata": {
        "colab": {
          "base_uri": "https://localhost:8080/"
        },
        "id": "tqpZgNYpe263",
        "outputId": "393c6ea5-576b-4a55-b74f-83d30cea9c89"
      },
      "execution_count": 34,
      "outputs": [
        {
          "output_type": "stream",
          "name": "stdout",
          "text": [
            "TOKEN: Integer         RETURN: INTEGER\n",
            "TOKEN: a               RETURN: IDENTIFIER TOKEN_NUM: 1\n",
            "TOKEN: ,               RETURN: COMMA\n",
            "TOKEN: b               RETURN: IDENTIFIER TOKEN_NUM: 2\n",
            "TOKEN: Begin           RETURN: BEGIN\n",
            "TOKEN: read            RETURN: READ\n",
            "TOKEN: n               RETURN: IDENTIFIER TOKEN_NUM: 3\n",
            "TOKEN: ;               RETURN: SEMICOLON\n",
            "TOKEN: if              RETURN: IF\n",
            "TOKEN: a               RETURN: IDENTIFIER TOKEN_NUM: 1\n",
            "TOKEN: <               RETURN: LT\n",
            "TOKEN: 10              RETURN: NUMBER\n",
            "TOKEN: then            RETURN: THEN\n",
            "TOKEN: b               RETURN: IDENTIFIER TOKEN_NUM: 2\n",
            "TOKEN: :=              RETURN: ASSIGN\n",
            "TOKEN: 1               RETURN: NUMBER\n",
            "TOKEN: ;               RETURN: SEMICOLON\n",
            "TOKEN: else            RETURN: ELSE\n",
            "TOKEN: ;               RETURN: SEMICOLON\n",
            "TOKEN: endif           RETURN: ENDIF\n",
            "TOKEN: while           RETURN: WHILE\n",
            "TOKEN: a               RETURN: IDENTIFIER TOKEN_NUM: 1\n",
            "TOKEN: <               RETURN: LT\n",
            "TOKEN: 10              RETURN: NUMBER\n",
            "TOKEN: do              RETURN: DO\n",
            "TOKEN: b               RETURN: IDENTIFIER TOKEN_NUM: 2\n",
            "TOKEN: :=              RETURN: ASSIGN\n",
            "TOKEN: 5               RETURN: NUMBER\n",
            "TOKEN: *               RETURN: MUL\n",
            "TOKEN: a               RETURN: IDENTIFIER TOKEN_NUM: 1\n",
            "TOKEN: ;               RETURN: SEMICOLON\n",
            "TOKEN: a               RETURN: IDENTIFIER TOKEN_NUM: 1\n",
            "TOKEN: :=              RETURN: ASSIGN\n",
            "TOKEN: a               RETURN: IDENTIFIER TOKEN_NUM: 1\n",
            "TOKEN: +               RETURN: ADD\n",
            "TOKEN: 1               RETURN: NUMBER\n",
            "TOKEN: ;               RETURN: SEMICOLON\n",
            "TOKEN: endwhile        RETURN: ENDWHILE\n",
            "TOKEN: ;               RETURN: SEMICOLON\n",
            "TOKEN: write           RETURN: WRITE\n",
            "TOKEN: a               RETURN: IDENTIFIER TOKEN_NUM: 1\n",
            "TOKEN: ;               RETURN: SEMICOLON\n",
            "TOKEN: write           RETURN: WRITE\n",
            "TOKEN: b               RETURN: IDENTIFIER TOKEN_NUM: 2\n",
            "TOKEN: ;               RETURN: SEMICOLON\n",
            "TOKEN: end             RETURN: END\n"
          ]
        },
        {
          "output_type": "execute_result",
          "data": {
            "text/plain": []
          },
          "metadata": {},
          "execution_count": 34
        }
      ]
    },
    {
      "cell_type": "markdown",
      "source": [
        "## Lex and Yacc combined"
      ],
      "metadata": {
        "id": "9g3qzHuCe9s1"
      }
    },
    {
      "cell_type": "code",
      "source": [
        "#@title Writing YACC program\n",
        "%%writefile program.y\n",
        "\n",
        "%{\n",
        "    #include<stdio.h>\n",
        "    #include<stdlib.h>\n",
        "%}\n",
        "%token DIGIT LETTER UND NL\n",
        "%%\n",
        "stmt: variable NL {printf(\"Valid Identifier\\n\");exit(0);}\n",
        "variable: LETTER alphanumeric;\n",
        "alphanumeric: LETTER alphanumeric\n",
        "            | DIGIT alphanumeric\n",
        "            | UND alphanumeric\n",
        "            | LETTER\n",
        "            | DIGIT\n",
        "            | UND;\n",
        "%%\n",
        "\n",
        "int yyerror(){\n",
        "    printf(\"Invalid Identifier\\n\");\n",
        "    exit(0);\n",
        "}\n",
        "\n",
        "void main(){\n",
        "    printf(\"Enter the variable name: \");\n",
        "    yyparse();\n",
        "}"
      ],
      "metadata": {
        "colab": {
          "base_uri": "https://localhost:8080/"
        },
        "id": "PR_WVl_3kvjz",
        "outputId": "f984685a-94a9-4103-81d1-734d93a11517"
      },
      "execution_count": 35,
      "outputs": [
        {
          "output_type": "stream",
          "name": "stdout",
          "text": [
            "Overwriting program.y\n"
          ]
        }
      ]
    },
    {
      "cell_type": "code",
      "execution_count": 36,
      "metadata": {
        "colab": {
          "base_uri": "https://localhost:8080/"
        },
        "outputId": "95ec689a-90db-4903-ab38-22791aa2dc05",
        "id": "d_jqt4ajkllz"
      },
      "outputs": [
        {
          "output_type": "stream",
          "name": "stdout",
          "text": [
            "Overwriting program.l\n"
          ]
        }
      ],
      "source": [
        "#@title Writing Lex program\n",
        "%%writefile program.l\n",
        "\n",
        "%{\n",
        "    #include \"y.tab.h\"\n",
        "%}\n",
        "%%\n",
        "[a-zA-Z] {return LETTER;}\n",
        "[0-9] {return DIGIT;}\n",
        "[_] {return UND;}\n",
        "\\n {return NL;}\n",
        ". {return yytext[0];}\n",
        "%%"
      ]
    },
    {
      "cell_type": "markdown",
      "source": [
        "if you want to use at txt as an input"
      ],
      "metadata": {
        "id": "b0o39e7Ykll3"
      }
    },
    {
      "cell_type": "code",
      "source": [
        "%%writefile program.txt\n",
        "\n",
        "This is a sample file."
      ],
      "metadata": {
        "id": "vna5Qg34kll4",
        "colab": {
          "base_uri": "https://localhost:8080/"
        },
        "outputId": "e9e523f6-d3ef-4b7b-b0da-d71eaf16c494"
      },
      "execution_count": 37,
      "outputs": [
        {
          "output_type": "stream",
          "name": "stdout",
          "text": [
            "Overwriting program.txt\n"
          ]
        }
      ]
    },
    {
      "cell_type": "code",
      "source": [
        "#@title Shell Execution (you can rewrite the commands as per your need, eg. if you want to include a file as an input)\n",
        "%%shell\n",
        "\n",
        "yacc -d program.y\n",
        "lex program.l\n",
        "cc y.tab.c lex.yy.c -ll\n",
        "./a.out"
      ],
      "metadata": {
        "colab": {
          "base_uri": "https://localhost:8080/"
        },
        "outputId": "95cdb5e9-3cca-4aa2-91d6-64f06f35effa",
        "id": "nqs9Nq64kll4"
      },
      "execution_count": null,
      "outputs": [
        {
          "output_type": "stream",
          "name": "stdout",
          "text": [
            "\u001b[01m\u001b[Ky.tab.c:\u001b[m\u001b[K In function ‘\u001b[01m\u001b[Kyyparse\u001b[m\u001b[K’:\n",
            "\u001b[01m\u001b[Ky.tab.c:1024:16:\u001b[m\u001b[K \u001b[01;35m\u001b[Kwarning: \u001b[m\u001b[Kimplicit declaration of function ‘\u001b[01m\u001b[Kyylex\u001b[m\u001b[K’ [\u001b[01;35m\u001b[K\u001b]8;;https://gcc.gnu.org/onlinedocs/gcc/Warning-Options.html#index-Wimplicit-function-declaration\u0007-Wimplicit-function-declaration\u001b]8;;\u0007\u001b[m\u001b[K]\n",
            " 1024 |       yychar = \u001b[01;35m\u001b[Kyylex\u001b[m\u001b[K ();\n",
            "      |                \u001b[01;35m\u001b[K^~~~~\u001b[m\u001b[K\n",
            "\u001b[01m\u001b[Ky.tab.c:1165:7:\u001b[m\u001b[K \u001b[01;35m\u001b[Kwarning: \u001b[m\u001b[Kimplicit declaration of function ‘\u001b[01m\u001b[Kyyerror\u001b[m\u001b[K’; did you mean ‘\u001b[01m\u001b[Kyyerrok\u001b[m\u001b[K’? [\u001b[01;35m\u001b[K\u001b]8;;https://gcc.gnu.org/onlinedocs/gcc/Warning-Options.html#index-Wimplicit-function-declaration\u0007-Wimplicit-function-declaration\u001b]8;;\u0007\u001b[m\u001b[K]\n",
            " 1165 |       \u001b[01;35m\u001b[Kyyerror\u001b[m\u001b[K (YY_(\"syntax error\"));\n",
            "      |       \u001b[01;35m\u001b[K^~~~~~~\u001b[m\u001b[K\n",
            "      |       \u001b[32m\u001b[Kyyerrok\u001b[m\u001b[K\n",
            "Enter the variable name: "
          ]
        }
      ]
    }
  ]
}